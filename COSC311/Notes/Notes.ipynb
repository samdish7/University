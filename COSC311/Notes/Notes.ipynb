{
 "cells": [
  {
   "cell_type": "markdown",
   "metadata": {},
   "source": [
    "## 9/3/20\n",
    "\n",
    "## Python Basics\n",
    "Here is some basic python code below:"
   ]
  },
  {
   "cell_type": "code",
   "execution_count": 2,
   "metadata": {},
   "outputs": [
    {
     "name": "stdout",
     "output_type": "stream",
     "text": [
      "10\n",
      "hello world!\n"
     ]
    }
   ],
   "source": [
    "a = 10\n",
    "print(a);\n",
    "a = \"hello world!\" #just changed types!\n",
    "print(a)"
   ]
  },
  {
   "cell_type": "markdown",
   "metadata": {},
   "source": [
    "Above is the output ^"
   ]
  },
  {
   "cell_type": "markdown",
   "metadata": {},
   "source": [
    "The syntax is similar to c/c++, so that is helpful\n",
    "Here is more code below as some basic examples:"
   ]
  },
  {
   "cell_type": "code",
   "execution_count": 7,
   "metadata": {},
   "outputs": [
    {
     "name": "stdout",
     "output_type": "stream",
     "text": [
      "9\n",
      "5\n"
     ]
    }
   ],
   "source": [
    "a,b = 9, 5\n",
    "print(a)\n",
    "print(b)"
   ]
  },
  {
   "cell_type": "code",
   "execution_count": 8,
   "metadata": {},
   "outputs": [
    {
     "name": "stdout",
     "output_type": "stream",
     "text": [
      "a is neither 5 or 10\n"
     ]
    }
   ],
   "source": [
    "if a is 10: # \"is\" plays the role of == \n",
    "    print(\"a is 10\")\n",
    "elif a is 5:\n",
    "    print(\"a is 5\")\n",
    "else:\n",
    "    print(\"a is neither 5 or 10\")"
   ]
  },
  {
   "cell_type": "markdown",
   "metadata": {},
   "source": [
    "## Lists\n",
    "arrays in python are called \"lists\"\n",
    "\n",
    "denote the list by [ ]"
   ]
  },
  {
   "cell_type": "code",
   "execution_count": 14,
   "metadata": {},
   "outputs": [
    {
     "name": "stdout",
     "output_type": "stream",
     "text": [
      "[1, 5, 10]\n",
      "The length of a is 3\n",
      "The length of a is 3\n",
      "The length of a is 3\n",
      "1\n",
      "5\n",
      "10\n"
     ]
    }
   ],
   "source": [
    "a = [1, 5, 10]\n",
    "print(a)\n",
    "#len is a built in function to find the length of a list\n",
    "print(\"The length of a is \" + str(len(a)))\n",
    "#could also do this way\n",
    "print(\"The length of a is\", len(a))\n",
    "#another way\n",
    "print(f\"The length of a is {len(a)}\")\n",
    "for i in a:\n",
    "    print(i)"
   ]
  },
  {
   "cell_type": "code",
   "execution_count": 15,
   "metadata": {},
   "outputs": [
    {
     "name": "stdout",
     "output_type": "stream",
     "text": [
      "Positional arguments: 5 5 \n"
     ]
    }
   ],
   "source": [
    "print(\"Positional arguments: {0} {0} \".format(5))"
   ]
  },
  {
   "cell_type": "code",
   "execution_count": 21,
   "metadata": {},
   "outputs": [
    {
     "name": "stdout",
     "output_type": "stream",
     "text": [
      "This is a ~> 36\n",
      "This is b ~> 15\n"
     ]
    }
   ],
   "source": [
    "# Must use () to wrap long computations\n",
    "a = (1 + 2 + 3 + 4 + 5\n",
    "+ 6 + 7 + 8)\n",
    "print(\"This is a ~>\",a)\n",
    "# otherwise you get this\n",
    "b = 1 + 2 + 3 + 4 + 5\n",
    "+ 6 + 7 + 8 # this gets lost\n",
    "print(\"This is b ~>\",b)"
   ]
  },
  {
   "cell_type": "code",
   "execution_count": 22,
   "metadata": {},
   "outputs": [
    {
     "data": {
      "text/plain": [
       "'\\nYou can use triple-quote as a (sort of) block comment\\nbut, it does get processed, so \"costs\" something...\\n'"
      ]
     },
     "execution_count": 22,
     "metadata": {},
     "output_type": "execute_result"
    }
   ],
   "source": [
    "\"\"\"\n",
    "You can use triple-quote as a (sort of) block comment\n",
    "but, it does get processed, so \"costs\" something...\n",
    "\"\"\""
   ]
  },
  {
   "cell_type": "markdown",
   "metadata": {},
   "source": [
    "# Loops\n",
    "Here is an example of a simple loop in python"
   ]
  },
  {
   "cell_type": "code",
   "execution_count": 25,
   "metadata": {},
   "outputs": [
    {
     "name": "stdout",
     "output_type": "stream",
     "text": [
      "[1, 23, 6, 8]\n",
      "1\n",
      "8\n"
     ]
    }
   ],
   "source": [
    "arr = [1, 23, 6, 8]\n",
    "print(arr)\n",
    "print(arr[0]) #index-by 0\n",
    "#print(arr)[4] Error!\n",
    "print(arr[-1]) #last element"
   ]
  },
  {
   "cell_type": "markdown",
   "metadata": {},
   "source": [
    "# Slicing + Ranges\n",
    "Exaple of how to slice a list"
   ]
  },
  {
   "cell_type": "code",
   "execution_count": 26,
   "metadata": {},
   "outputs": [
    {
     "name": "stdout",
     "output_type": "stream",
     "text": [
      "[23, 6]\n"
     ]
    }
   ],
   "source": [
    "# slices the 1th through 3rd (non-inclusive)\n",
    "print(arr[1:3])"
   ]
  },
  {
   "cell_type": "code",
   "execution_count": 32,
   "metadata": {},
   "outputs": [
    {
     "name": "stdout",
     "output_type": "stream",
     "text": [
      "[1, 2, 3, 4, 5, 6, 7, 8, 9, 10, 11, 12, 13, 14, 15, 16, 17, 18, 19, 20, 21, 22, 23, 24]\n"
     ]
    }
   ],
   "source": [
    "# the \"range\" function returns an iterator from the start to the end, with an optional step\n",
    "arr = list(range(1,25)) # make a range and convert to a list\n",
    "print(arr)"
   ]
  },
  {
   "cell_type": "code",
   "execution_count": 30,
   "metadata": {},
   "outputs": [
    {
     "name": "stdout",
     "output_type": "stream",
     "text": [
      "[11, 12, 13, 14, 15, 16, 17, 18, 19, 20]\n",
      "[11, 13, 15, 17, 19]\n"
     ]
    }
   ],
   "source": [
    "print(arr[10:20]) #length is just \"end - start\"!\n",
    "print(arr[10:20:2]) #add in a step-size/ stride at the end"
   ]
  },
  {
   "cell_type": "markdown",
   "metadata": {},
   "source": [
    "### List comprehension"
   ]
  },
  {
   "cell_type": "code",
   "execution_count": 46,
   "metadata": {},
   "outputs": [
    {
     "data": {
      "text/plain": [
       "[1, 4, 9, 16, 25, 36, 49, 64, 81]"
      ]
     },
     "execution_count": 46,
     "metadata": {},
     "output_type": "execute_result"
    }
   ],
   "source": [
    "arr = [i*i for i in range(1,10)] #memory-efficent because range() doesn't construct a list\n",
    "[i for i in arr]"
   ]
  },
  {
   "cell_type": "code",
   "execution_count": 47,
   "metadata": {},
   "outputs": [
    {
     "data": {
      "text/plain": [
       "[2, 8, 18, 32, 50, 72, 98, 128, 162]"
      ]
     },
     "execution_count": 47,
     "metadata": {},
     "output_type": "execute_result"
    }
   ],
   "source": [
    "#says: \"Compute i*2 for every i in arr\"\n",
    "[i*2 for i in arr]"
   ]
  },
  {
   "cell_type": "code",
   "execution_count": 52,
   "metadata": {},
   "outputs": [
    {
     "name": "stdout",
     "output_type": "stream",
     "text": [
      "Square of 1 = 1\n",
      "Square of 2 = 4\n",
      "Square of 3 = 9\n",
      "Square of 4 = 16\n",
      "Square of 5 = 25\n",
      "Square of 6 = 36\n",
      "Square of 7 = 49\n",
      "Square of 8 = 64\n",
      "Square of 9 = 81\n"
     ]
    }
   ],
   "source": [
    "for i in range(0,len(arr)):\n",
    "    print(f\"Square of {i+1} = {arr[i]}\")"
   ]
  },
  {
   "cell_type": "markdown",
   "metadata": {},
   "source": [
    "### Dictionaries\n",
    "A dictionary is what is called a \"key/value\" store\n",
    "we can put pretty much any data inside, as long as it's \"hashable\"\n",
    "Underneath is a hash table! (320 throwback)"
   ]
  },
  {
   "cell_type": "code",
   "execution_count": 69,
   "metadata": {},
   "outputs": [
    {
     "name": "stdout",
     "output_type": "stream",
     "text": [
      "{2: 'two', 'two': 100, 3: [1, 2, 4], '*': {'sub-1': 1, 'sub-2': 2}, 4: {'a': 1, 'b': 2}}\n",
      "two\n",
      "100\n",
      "100\n",
      "1\n",
      "2\n"
     ]
    }
   ],
   "source": [
    "#declare dictionary with { }\n",
    "j={\"a\": 1, \"b\": 2}\n",
    "d = {\n",
    "    2: \"two\",\n",
    "    \"two\": 100,\n",
    "    3: [1, 2, 4],\n",
    "    \"*\": {\n",
    "        \"sub-1\": 1,\n",
    "        \"sub-2\": 2,\n",
    "    },\n",
    "    4: j,\n",
    "}\n",
    "print(d)\n",
    "print(d[2])\n",
    "print(d[\"two\"])\n",
    "print(d[d[2]])\n",
    "print(d[\"*\"][\"sub-1\"])\n",
    "print(d[3][1])"
   ]
  },
  {
   "cell_type": "markdown",
   "metadata": {},
   "source": [
    "### Functions\n",
    "You can define functions in phython just like C/C++"
   ]
  },
  {
   "cell_type": "code",
   "execution_count": 77,
   "metadata": {},
   "outputs": [],
   "source": [
    "def myFunction(param1, param2):\n",
    "    print(f\"Got parameters {param1} and {param2}\")\n"
   ]
  },
  {
   "cell_type": "code",
   "execution_count": 78,
   "metadata": {},
   "outputs": [
    {
     "name": "stdout",
     "output_type": "stream",
     "text": [
      "Got parameters 4 and 5\n"
     ]
    }
   ],
   "source": [
    "myFunction(4,5)"
   ]
  },
  {
   "cell_type": "code",
   "execution_count": null,
   "metadata": {},
   "outputs": [],
   "source": []
  }
 ],
 "metadata": {
  "kernelspec": {
   "display_name": "Python 3",
   "language": "python",
   "name": "python3"
  },
  "language_info": {
   "codemirror_mode": {
    "name": "ipython",
    "version": 3
   },
   "file_extension": ".py",
   "mimetype": "text/x-python",
   "name": "python",
   "nbconvert_exporter": "python",
   "pygments_lexer": "ipython3",
   "version": "3.6.7"
  }
 },
 "nbformat": 4,
 "nbformat_minor": 2
}
