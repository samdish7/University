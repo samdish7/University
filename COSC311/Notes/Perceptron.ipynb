{
 "cells": [
  {
   "cell_type": "code",
   "execution_count": 3,
   "id": "a9e67e35-f233-4aee-ae38-0c2fdc2bab98",
   "metadata": {},
   "outputs": [],
   "source": [
    "import numpy as np\n",
    "import numpy.linalg as la\n",
    "from matplotlib import pyplot as plt"
   ]
  },
  {
   "cell_type": "code",
   "execution_count": 10,
   "id": "c0e8515c-9b31-4a51-836a-698c48a97bab",
   "metadata": {
    "tags": []
   },
   "outputs": [
    {
     "data": {
      "text/plain": [
       "(-2.0, 1.9000000000000035, -2.0, 1.9000000000000035)"
      ]
     },
     "execution_count": 10,
     "metadata": {},
     "output_type": "execute_result"
    },
    {
     "data": {
      "image/png": "[encoded data removed]",
      "text/plain": [
       "<Figure size 432x288 with 1 Axes>"
      ]
     },
     "metadata": {
      "needs_background": "light"
     },
     "output_type": "display_data"
    }
   ],
   "source": [
    "w0 = 1\n",
    "w1 = 1\n",
    "def f(x,y):\n",
    "  \n",
    "    return 1 if w0*x + w1*y >= 0 else -1\n",
    "\n",
    "xs, ys = np.meshgrid(np.arange(-2, 2, 0.1), np.arange(-2, 2, 0.1))\n",
    "zs = [ [ f(xs[i,j], ys[i,j]) for j in range(len(ys)) ] for i in range(len(xs)) ]\n",
    "plt.plot([[0,0], [1,1]], 'k')\n",
    "plt.contourf(xs, ys, zs, levels = 50, cmap = 'coolwarm')\n",
    "plt.axis('equal')"
   ]
  },
  {
   "cell_type": "code",
   "execution_count": null,
   "id": "79e39668-8d60-4835-9e60-1036b783386f",
   "metadata": {},
   "outputs": [],
   "source": []
  }
 ],
 "metadata": {
  "kernelspec": {
   "display_name": "Python 3 (ipykernel)",
   "language": "python",
   "name": "python3"
  },
  "language_info": {
   "codemirror_mode": {
    "name": "ipython",
    "version": 3
   },
   "file_extension": ".py",
   "mimetype": "text/x-python",
   "name": "python",
   "nbconvert_exporter": "python",
   "pygments_lexer": "ipython3",
   "version": "3.8.8"
  }
 },
 "nbformat": 4,
 "nbformat_minor": 5
}
