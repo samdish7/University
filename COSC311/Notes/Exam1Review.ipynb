{
 "cells": [
  {
   "cell_type": "markdown",
   "id": "72ec12ab-0be0-479b-9f1e-112e571726d1",
   "metadata": {},
   "source": [
    "# Pivoting\n",
    "\n",
    "Need 3 keys to use from your dataframe. The `index` & `columns` keys will be **zipped** together to form (x,y) pairs, then the `values` key is the function value associated to (x,y)\n",
    "\n",
    "Things you need to make this happen:\n",
    "- The `index` and the `columns` must for a set of unique pairs. They have to have the same number of unique values."
   ]
  },
  {
   "cell_type": "code",
   "execution_count": 1,
   "id": "59caccb9-9714-418e-b13e-afbb1408d0e5",
   "metadata": {},
   "outputs": [],
   "source": [
    "import pandas as pd"
   ]
  },
  {
   "cell_type": "code",
   "execution_count": 16,
   "id": "2a5496f4-8886-4389-b0d9-5253bc63beaa",
   "metadata": {},
   "outputs": [],
   "source": [
    "df = pd.DataFrame(data = {\n",
    "    'col1': ['A', 'B', 'C', 'D'],\n",
    "    'col2': [1,2,2,1],\n",
    "    'col3': ['X', 'X', 'Y', 'Y'],\n",
    "})"
   ]
  },
  {
   "cell_type": "code",
   "execution_count": 17,
   "id": "ae51cef8-79c2-4fd0-8671-f60bc80325ef",
   "metadata": {},
   "outputs": [
    {
     "data": {
      "text/html": [
       "<div>\n",
       "<style scoped>\n",
       "    .dataframe tbody tr th:only-of-type {\n",
       "        vertical-align: middle;\n",
       "    }\n",
       "\n",
       "    .dataframe tbody tr th {\n",
       "        vertical-align: top;\n",
       "    }\n",
       "\n",
       "    .dataframe thead th {\n",
       "        text-align: right;\n",
       "    }\n",
       "</style>\n",
       "<table border=\"1\" class=\"dataframe\">\n",
       "  <thead>\n",
       "    <tr style=\"text-align: right;\">\n",
       "      <th></th>\n",
       "      <th>col1</th>\n",
       "      <th>col2</th>\n",
       "      <th>col3</th>\n",
       "    </tr>\n",
       "  </thead>\n",
       "  <tbody>\n",
       "    <tr>\n",
       "      <th>0</th>\n",
       "      <td>A</td>\n",
       "      <td>1</td>\n",
       "      <td>X</td>\n",
       "    </tr>\n",
       "    <tr>\n",
       "      <th>1</th>\n",
       "      <td>B</td>\n",
       "      <td>2</td>\n",
       "      <td>X</td>\n",
       "    </tr>\n",
       "    <tr>\n",
       "      <th>2</th>\n",
       "      <td>C</td>\n",
       "      <td>2</td>\n",
       "      <td>Y</td>\n",
       "    </tr>\n",
       "    <tr>\n",
       "      <th>3</th>\n",
       "      <td>D</td>\n",
       "      <td>1</td>\n",
       "      <td>Y</td>\n",
       "    </tr>\n",
       "  </tbody>\n",
       "</table>\n",
       "</div>"
      ],
      "text/plain": [
       "  col1  col2 col3\n",
       "0    A     1    X\n",
       "1    B     2    X\n",
       "2    C     2    Y\n",
       "3    D     1    Y"
      ]
     },
     "execution_count": 17,
     "metadata": {},
     "output_type": "execute_result"
    }
   ],
   "source": [
    "df"
   ]
  },
  {
   "cell_type": "code",
   "execution_count": 18,
   "id": "b48869ef-09b3-49b1-8824-894924f57940",
   "metadata": {},
   "outputs": [
    {
     "data": {
      "text/html": [
       "<div>\n",
       "<style scoped>\n",
       "    .dataframe tbody tr th:only-of-type {\n",
       "        vertical-align: middle;\n",
       "    }\n",
       "\n",
       "    .dataframe tbody tr th {\n",
       "        vertical-align: top;\n",
       "    }\n",
       "\n",
       "    .dataframe thead th {\n",
       "        text-align: right;\n",
       "    }\n",
       "</style>\n",
       "<table border=\"1\" class=\"dataframe\">\n",
       "  <thead>\n",
       "    <tr style=\"text-align: right;\">\n",
       "      <th>col2</th>\n",
       "      <th>1</th>\n",
       "      <th>2</th>\n",
       "    </tr>\n",
       "    <tr>\n",
       "      <th>col3</th>\n",
       "      <th></th>\n",
       "      <th></th>\n",
       "    </tr>\n",
       "  </thead>\n",
       "  <tbody>\n",
       "    <tr>\n",
       "      <th>X</th>\n",
       "      <td>A</td>\n",
       "      <td>B</td>\n",
       "    </tr>\n",
       "    <tr>\n",
       "      <th>Y</th>\n",
       "      <td>D</td>\n",
       "      <td>C</td>\n",
       "    </tr>\n",
       "  </tbody>\n",
       "</table>\n",
       "</div>"
      ],
      "text/plain": [
       "col2  1  2\n",
       "col3      \n",
       "X     A  B\n",
       "Y     D  C"
      ]
     },
     "execution_count": 18,
     "metadata": {},
     "output_type": "execute_result"
    }
   ],
   "source": [
    "df.pivot(index = 'col3', columns = 'col2', values = 'col1')"
   ]
  },
  {
   "cell_type": "code",
   "execution_count": 19,
   "id": "f642bb7c-441f-4e6a-a9cd-856b94c4ad64",
   "metadata": {},
   "outputs": [
    {
     "data": {
      "text/html": [
       "<div>\n",
       "<style scoped>\n",
       "    .dataframe tbody tr th:only-of-type {\n",
       "        vertical-align: middle;\n",
       "    }\n",
       "\n",
       "    .dataframe tbody tr th {\n",
       "        vertical-align: top;\n",
       "    }\n",
       "\n",
       "    .dataframe thead th {\n",
       "        text-align: right;\n",
       "    }\n",
       "</style>\n",
       "<table border=\"1\" class=\"dataframe\">\n",
       "  <thead>\n",
       "    <tr style=\"text-align: right;\">\n",
       "      <th>col3</th>\n",
       "      <th>X</th>\n",
       "      <th>Y</th>\n",
       "    </tr>\n",
       "    <tr>\n",
       "      <th>col2</th>\n",
       "      <th></th>\n",
       "      <th></th>\n",
       "    </tr>\n",
       "  </thead>\n",
       "  <tbody>\n",
       "    <tr>\n",
       "      <th>1</th>\n",
       "      <td>A</td>\n",
       "      <td>D</td>\n",
       "    </tr>\n",
       "    <tr>\n",
       "      <th>2</th>\n",
       "      <td>B</td>\n",
       "      <td>C</td>\n",
       "    </tr>\n",
       "  </tbody>\n",
       "</table>\n",
       "</div>"
      ],
      "text/plain": [
       "col3  X  Y\n",
       "col2      \n",
       "1     A  D\n",
       "2     B  C"
      ]
     },
     "execution_count": 19,
     "metadata": {},
     "output_type": "execute_result"
    }
   ],
   "source": [
    "df.pivot(index = 'col2', columns = 'col3', values = 'col1')"
   ]
  },
  {
   "cell_type": "code",
   "execution_count": 23,
   "id": "66e74534-adfd-48da-8c69-9a3a1de40222",
   "metadata": {},
   "outputs": [
    {
     "name": "stdout",
     "output_type": "stream",
     "text": [
      "  col1  col2 col3\n",
      "0    A     1    X\n",
      "1    B     2    Y\n",
      "2    C     3    Z\n",
      "3    D     4    A\n",
      "=========\n",
      "col2    1    2    3    4\n",
      "col3                    \n",
      "A     NaN  NaN  NaN    D\n",
      "X       A  NaN  NaN  NaN\n",
      "Y     NaN    B  NaN  NaN\n",
      "Z     NaN  NaN    C  NaN\n"
     ]
    }
   ],
   "source": [
    "# An example that still has the same number of unique values in `index` and `columns`\n",
    "# fields, but not every pair of those unique values has an associated `values` entry\n",
    "df = pd.DataFrame(data = {\n",
    "    'col1': ['A', 'B', 'C', 'D'],\n",
    "    'col2': [1,2,3,4],\n",
    "    'col3': ['X', 'Y', 'Z', 'A'],\n",
    "})\n",
    "print(df)\n",
    "print(\"=========\")\n",
    "print(df.pivot(index = 'col3', columns = 'col2', values = 'col1'))"
   ]
  },
  {
   "cell_type": "code",
   "execution_count": null,
   "id": "33ecebaa-850e-4307-bdd6-5fe567a9d75d",
   "metadata": {},
   "outputs": [],
   "source": []
  }
 ],
 "metadata": {
  "kernelspec": {
   "display_name": "Python 3 (ipykernel)",
   "language": "python",
   "name": "python3"
  },
  "language_info": {
   "codemirror_mode": {
    "name": "ipython",
    "version": 3
   },
   "file_extension": ".py",
   "mimetype": "text/x-python",
   "name": "python",
   "nbconvert_exporter": "python",
   "pygments_lexer": "ipython3",
   "version": "3.8.8"
  }
 },
 "nbformat": 4,
 "nbformat_minor": 5
}
