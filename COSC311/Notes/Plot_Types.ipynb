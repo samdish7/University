{
 "cells": [
  {
   "cell_type": "markdown",
   "id": "162c850b",
   "metadata": {},
   "source": [
    "# Types of Plots\n",
    "- Line\n",
    "    - Temporal or other sequential relationship between data points\n",
    "    - Captures evolution of a process\n",
    "- Bar \n",
    "    - Comparing categorical data\n",
    "    - No relationship implied by x-axis position\n",
    "    - Can \"stack\" for internal grouping\n",
    "- Pie\n",
    "    - Emphasize relative proportions of categorical division\n",
    "- Scatter\n",
    "    - Still captures relationship on the x-axis but sampling order doesn't matter, x-values are experimentally independent of each other\n",
    "- Data Table\n",
    "    - Comparing/Analyzing indicidual values but not the entire series\n",
    "    - Most precision required, with summary/statistics presented\n",
    "    \n",
    " **A lot of the graphical portrayals are on the webpage**"
   ]
  },
  {
   "cell_type": "markdown",
   "id": "587fbb32",
   "metadata": {},
   "source": [
    "## NOT ALL DATA IS THE SAME\n",
    "\n",
    "Numbers don't mean everything, can be misleading depending on the data structure and how the points may fall into place. **Example on [webpage](http://faculty.salisbury.edu/~jtanderson/teaching/cosc311/fa21/index.html)**\n",
    "\n",
    "### Gestaut Principles of Visualization\n",
    "\n",
    "Developed by German psycologists pre-war Germany\n",
    "\n",
    "1. **Proximity** ~> Two things put together will by nature be compared when next to each other. i.e. siblings doing the same task at the same time.\n",
    "2. **Similarity** ~> Two things that are similar will be compared no matter the distance. i.e. two apples across the room from each other\n",
    "3. **Enclosure** ~> Related to Proximity, but it is more like grouping. i.e. connect two graphes that are seperate in our minds\n",
    "4. **Closure** ~> Some sort of relationship that comes back to where the beginning is. \n",
    "5. **Continuity/Discontinuity** ~> Even if unrelated, the structure of the graph can allow our minds to perceive something from the data. i.e. a bar graph trending downwards\n",
    "6. **Connection** ~> Two things physically connected. i.e. man holding apple\n",
    "\n"
   ]
  },
  {
   "cell_type": "markdown",
   "id": "070d5b66",
   "metadata": {},
   "source": [
    "### Pre-Attentive Processing \n",
    "\n",
    "Effects that make certain elements of a visual **POP** or *Stand-out*\n",
    "\n",
    "- Bold\n",
    "- Colors\n",
    "- Something that contrasts the \"normal\" data\n",
    "- Table headers and \"conclusions\""
   ]
  },
  {
   "cell_type": "markdown",
   "id": "ccc07fb2",
   "metadata": {},
   "source": [
    "### Rough Guidelines for Visualizing Data:\n",
    "- Show the data\n",
    "- Reduce the clutter, less is more to a certain degree\n",
    "    - ex. Gridlines.... get rid of them\n",
    "- Integrate graphics and text\n",
    "    - ex. Instead of a legend, put labels on points you want to emphasize\n",
    "- Avoid spaghetti\n",
    "    -  ex. too many plots combined into one... another way to reduce the clutter\n",
    "    - **INSTEAD**~> Use seperate visuals\n",
    "- Start with grey and **THEN** add color/saturation progressively "
   ]
  },
  {
   "cell_type": "code",
   "execution_count": null,
   "id": "42f8b2f3",
   "metadata": {},
   "outputs": [],
   "source": []
  }
 ],
 "metadata": {
  "kernelspec": {
   "display_name": "Python 3 (ipykernel)",
   "language": "python",
   "name": "python3"
  },
  "language_info": {
   "codemirror_mode": {
    "name": "ipython",
    "version": 3
   },
   "file_extension": ".py",
   "mimetype": "text/x-python",
   "name": "python",
   "nbconvert_exporter": "python",
   "pygments_lexer": "ipython3",
   "version": "3.8.8"
  }
 },
 "nbformat": 4,
 "nbformat_minor": 5
}
