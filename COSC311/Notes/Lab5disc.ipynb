{
 "cells": [
  {
   "cell_type": "code",
   "execution_count": 38,
   "id": "bf3edcba-19f3-499e-ad1e-dbd0ccc210f1",
   "metadata": {},
   "outputs": [],
   "source": [
    "import numpy as np\n",
    "from numpy import linalg as la\n",
    "from collections import Counter as c"
   ]
  },
  {
   "cell_type": "code",
   "execution_count": 2,
   "id": "22a1d0c1-ab3e-4ea3-a883-02b5af20e39e",
   "metadata": {},
   "outputs": [],
   "source": [
    "class KNNClass:\n",
    "    def __init__(self,k):\n",
    "        self.k = k\n",
    "        \n",
    "    def train(data):\n",
    "        self.data = data\n",
    "        \n",
    "    def predict(x):\n",
    "        \"\"\"Return knn decision for using self.data to vote\"\"\"\n",
    "        pass"
   ]
  },
  {
   "cell_type": "code",
   "execution_count": 6,
   "id": "c7f0adb4-8e0b-4371-bbe0-3fad433dc109",
   "metadata": {},
   "outputs": [
    {
     "data": {
      "text/plain": [
       "3"
      ]
     },
     "execution_count": 6,
     "metadata": {},
     "output_type": "execute_result"
    }
   ],
   "source": [
    "clf = KNNClass(3)\n",
    "clf.k"
   ]
  },
  {
   "cell_type": "code",
   "execution_count": 8,
   "id": "3f014da7-39e6-4b86-9ad0-92cb965259d7",
   "metadata": {},
   "outputs": [
    {
     "data": {
      "text/plain": [
       "array(['red', 'blue', 'blue', 'blue', 'blue', 'red', 'blue', 'blue'],\n",
       "      dtype='<U4')"
      ]
     },
     "execution_count": 8,
     "metadata": {},
     "output_type": "execute_result"
    }
   ],
   "source": [
    "# n-by-d matrix of n sampels in dimension d\n",
    "data = np.array([\n",
    "    [1, 2, 3],\n",
    "    [1, 2, 1],\n",
    "    [1, 1, 1],\n",
    "    [2, -1, 2],\n",
    "    [34, 1, -2],\n",
    "    [2, 3, 1],\n",
    "    [-1, -1, -1],\n",
    "    [2, -1, -3]\n",
    "])\n",
    "labels = np.random.choice(['red', 'blue'], len(data), p = [0.5, 0.5])"
   ]
  },
  {
   "cell_type": "code",
   "execution_count": 62,
   "id": "07692ca5-0882-4949-84d7-e1a1599ead56",
   "metadata": {},
   "outputs": [],
   "source": [
    "x = np.array([0.5, 2, 1])"
   ]
  },
  {
   "cell_type": "code",
   "execution_count": 75,
   "id": "89540f75-bdad-4963-b824-9146d1430d8c",
   "metadata": {},
   "outputs": [
    {
     "name": "stdout",
     "output_type": "stream",
     "text": [
      "[('blue', 0.5), ('blue', 1.118033988749895), ('red', 1.8027756377319946), ('red', 2.0615528128088303), ('blue', 3.5), ('blue', 3.905124837953327), ('blue', 5.220153254455275), ('blue', 33.64892271678248)]\n"
     ]
    },
    {
     "data": {
      "text/plain": [
       "int"
      ]
     },
     "execution_count": 75,
     "metadata": {},
     "output_type": "execute_result"
    }
   ],
   "source": [
    "#objective is now to find the k-closest points of data to x \n",
    "#(in terms of l2 distance, \"Euclidian Distance\")\n",
    "k = 3\n",
    "#for point in data:\n",
    " #   print(f'distance from {point} to {x} is {la.norm(x - point)}')\n",
    "dist = [\n",
    "    #pair up each dist with the label of point\n",
    "    #i.e. put distance to point i with label i\n",
    "    \n",
    "    (labels[i], la.norm(x-data[i])) for i in range(len(data))\n",
    "       \n",
    "]\n",
    "\n",
    "#print(dist)\n",
    "#best way\n",
    "# sorted function takes a key param which\n",
    "# needs to be a function that returns the values to be used\n",
    "# in each comparision\n",
    "k_nearest = sorted(dist, key = lambda x: x[1])\n",
    "print(k_nearest)\n",
    "\n",
    "f = c([p[0] for p in k_nearest[:3]])\n",
    "f['blue']"
   ]
  },
  {
   "cell_type": "code",
   "execution_count": null,
   "id": "38e0398c-1d60-4b05-82e0-bc80f1d304c7",
   "metadata": {},
   "outputs": [],
   "source": []
  },
  {
   "cell_type": "code",
   "execution_count": null,
   "id": "190ad1d9-f5b0-4355-99be-7e5cb199494b",
   "metadata": {},
   "outputs": [],
   "source": []
  }
 ],
 "metadata": {
  "kernelspec": {
   "display_name": "Python 3 (ipykernel)",
   "language": "python",
   "name": "python3"
  },
  "language_info": {
   "codemirror_mode": {
    "name": "ipython",
    "version": 3
   },
   "file_extension": ".py",
   "mimetype": "text/x-python",
   "name": "python",
   "nbconvert_exporter": "python",
   "pygments_lexer": "ipython3",
   "version": "3.8.8"
  }
 },
 "nbformat": 4,
 "nbformat_minor": 5
}
