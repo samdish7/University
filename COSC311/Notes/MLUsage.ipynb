{
 "cells": [
  {
   "cell_type": "markdown",
   "id": "f22aad09-4049-40fb-836c-96da8732b491",
   "metadata": {},
   "source": [
    "# Using Machine learning\n",
    "\n",
    "When using ML, we will usually rely on off-the-shelf implementations such as in [Scikit Learn](https://scikit-learn.org/stable/). To install this, do `pip install sklearn`"
   ]
  },
  {
   "cell_type": "code",
   "execution_count": 2,
   "id": "240d81e9-4d03-497d-8929-d6e7c2261c49",
   "metadata": {},
   "outputs": [],
   "source": [
    "import numpy as np\n",
    "from sklearn.neighbors import KNeighborsClassifier\n",
    "from matplotlib import pyplot as plt\n",
    "import pandas as pd"
   ]
  },
  {
   "cell_type": "code",
   "execution_count": 3,
   "id": "8803da61-9685-4d7a-a15a-cc7b618bdcf1",
   "metadata": {},
   "outputs": [],
   "source": [
    "iris = pd.read_csv('data/iris.data', header=None, \n",
    "                   names=['sepal_length', 'sepal_width', 'petal_length', 'petal_width', 'class'])"
   ]
  },
  {
   "cell_type": "code",
   "execution_count": 4,
   "id": "5b0032fc-f996-4490-b809-f9de5d850ad6",
   "metadata": {},
   "outputs": [
    {
     "data": {
      "text/plain": [
       "Text(0.5, 1.0, 'Sepal length vs width')"
      ]
     },
     "execution_count": 4,
     "metadata": {},
     "output_type": "execute_result"
    },
    {
     "data": {
      "image/png": "[encoded data removed]",
      "text/plain": [
       "<Figure size 432x288 with 1 Axes>"
      ]
     },
     "metadata": {
      "needs_background": "light"
     },
     "output_type": "display_data"
    }
   ],
   "source": [
    "# Idea: when we look at the ground truth, these look easily classifiable by simple algorithms\n",
    "setosa = iris[iris['class'] == 'Iris-setosa']\n",
    "virginica = iris[iris['class'] == 'Iris-virginica']\n",
    "versicolor = iris[iris['class'] == 'Iris-versicolor']\n",
    "\n",
    "plt.scatter(x=setosa['sepal_length'], y=setosa['sepal_width'], color='b')\n",
    "plt.scatter(x=virginica['sepal_length'], y=virginica['sepal_width'], color='r')\n",
    "plt.scatter(x=versicolor['sepal_length'], y=versicolor['sepal_width'], color='g')\n",
    "plt.legend(['setosa', 'viginica', 'versicolor'])\n",
    "plt.title(\"Sepal length vs width\")"
   ]
  },
  {
   "cell_type": "code",
   "execution_count": 5,
   "id": "fbbb1b48-8e24-49cb-b4c9-0ce833db49ff",
   "metadata": {},
   "outputs": [
    {
     "name": "stderr",
     "output_type": "stream",
     "text": [
      "/var/folders/w_/t6sc02_j38d3q0mks_79m4j40000gn/T/ipykernel_43545/4243345768.py:20: SettingWithCopyWarning: \n",
      "A value is trying to be set on a copy of a slice from a DataFrame\n",
      "\n",
      "See the caveats in the documentation: https://pandas.pydata.org/pandas-docs/stable/user_guide/indexing.html#returning-a-view-versus-a-copy\n",
      "  Y[Y == 'Iris-setosa'] = 0\n",
      "/var/folders/w_/t6sc02_j38d3q0mks_79m4j40000gn/T/ipykernel_43545/4243345768.py:21: SettingWithCopyWarning: \n",
      "A value is trying to be set on a copy of a slice from a DataFrame\n",
      "\n",
      "See the caveats in the documentation: https://pandas.pydata.org/pandas-docs/stable/user_guide/indexing.html#returning-a-view-versus-a-copy\n",
      "  Y[Y!= 0] = 1\n"
     ]
    },
    {
     "data": {
      "text/plain": [
       "array([1., 0., 1.])"
      ]
     },
     "execution_count": 5,
     "metadata": {},
     "output_type": "execute_result"
    }
   ],
   "source": [
    "# construct a classifier object\n",
    "# then will need to be trained, or \"fit\"\n",
    "knn = KNeighborsClassifier(n_neighbors = 3)\n",
    "\n",
    "# to do that, need to pass an array of data points\n",
    "# and an array of labels for each of those points\n",
    "\n",
    "# extract the two columns we want to classify on as a numpy array\n",
    "X = iris[['sepal_length', 'sepal_width']].values\n",
    "#print(X)\n",
    "\n",
    "# iris labels\n",
    "Y = iris['class']\n",
    "\n",
    "# we have the labels as strings, just map to numbers\n",
    "# We will set setosa to class 0\n",
    "# We wil set the non-setosa to class 1\n",
    "\n",
    "#replace Iris-setosa entries with 0, and non Iris-setosa entries with 1\n",
    "Y[Y == 'Iris-setosa'] = 0\n",
    "Y[Y!= 0] = 1\n",
    "#print(Y)\n",
    "\n",
    "# because Y started as strings, they were stored as generic object\n",
    "# so we will covert them to be stored as floats\n",
    "Y = Y.astype('float64')\n",
    "Y\n",
    "\n",
    "# fit/train the model/algorithm/classifier/ to the data and labels\n",
    "knn.fit(X,Y)\n",
    "\n",
    "# we can now ask the knn to classify new points!\n",
    "# They call this 'predict'\n",
    "# the .predict() method needs an input matrix of the same cols as X\n",
    "# will return an array of predicted labels, one for each row\n",
    "knn.predict([ [7,2.5], [5,2.9], [5,2.7] ])"
   ]
  },
  {
   "cell_type": "code",
   "execution_count": 7,
   "id": "18457f2d-006b-411d-881d-b0241fc6ab44",
   "metadata": {},
   "outputs": [
    {
     "data": {
      "text/plain": [
       "array([0., 0., 0., 0., 0., 0., 0., 0., 0., 0., 0., 0., 0., 0., 0., 0., 0.,\n",
       "       0., 0., 0., 0., 0., 0., 0., 0., 0., 0., 0., 0., 0., 0., 0., 0., 0.,\n",
       "       0., 0., 0., 0., 0., 0., 0., 1., 0., 0., 0., 0., 0., 0., 0., 0., 1.,\n",
       "       1., 1., 1., 1., 1., 1., 1., 1., 1., 1., 1., 1., 1., 1., 1., 1., 1.,\n",
       "       1., 1., 1., 1., 1., 1., 1., 1., 1., 1., 1., 1., 1., 1., 1., 1., 1.,\n",
       "       1., 1., 1., 1., 1., 1., 1., 1., 1., 1., 1., 1., 1., 1., 1., 1., 1.,\n",
       "       1., 1., 1., 1., 1., 1., 1., 1., 1., 1., 1., 1., 1., 1., 1., 1., 1.,\n",
       "       1., 1., 1., 1., 1., 1., 1., 1., 1., 1., 1., 1., 1., 1., 1., 1., 1.,\n",
       "       1., 1., 1., 1., 1., 1., 1., 1., 1., 1., 1., 1., 1., 1.])"
      ]
     },
     "execution_count": 7,
     "metadata": {},
     "output_type": "execute_result"
    }
   ],
   "source": [
    "# see how confused this alg is\n",
    "knn.predict(X)"
   ]
  },
  {
   "cell_type": "code",
   "execution_count": 6,
   "id": "79891a5a-54f7-4521-b758-d5472ebea138",
   "metadata": {},
   "outputs": [
    {
     "data": {
      "text/plain": [
       "0      0.0\n",
       "1      0.0\n",
       "2      0.0\n",
       "3      0.0\n",
       "4      0.0\n",
       "      ... \n",
       "145    1.0\n",
       "146    1.0\n",
       "147    1.0\n",
       "148    1.0\n",
       "149    1.0\n",
       "Name: class, Length: 150, dtype: float64"
      ]
     },
     "execution_count": 6,
     "metadata": {},
     "output_type": "execute_result"
    }
   ],
   "source": [
    "Y"
   ]
  },
  {
   "cell_type": "code",
   "execution_count": 7,
   "id": "0f54870f-9f58-4f6a-90c1-7318c0f8acf5",
   "metadata": {},
   "outputs": [
    {
     "name": "stdout",
     "output_type": "stream",
     "text": [
      "We got 1 wrong!\n"
     ]
    }
   ],
   "source": [
    "num_wrong = np.sum(np.not_equal(knn.predict(X), Y))\n",
    "print(f'We got {num_wrong} wrong!')"
   ]
  },
  {
   "cell_type": "markdown",
   "id": "2df73ae1-4c1f-4d43-938f-200bedcfccc9",
   "metadata": {},
   "source": [
    "## We also usually want to see a decision boundary or regions of each class\n",
    "\n",
    "One way, use contour plotting to just classify the whole grid. \n",
    "The easiest way to do this is use `pyplot.contourf` to fill in the areas between grid points,\n",
    "using `numpy.meshgrid` to generate the grid points themselves."
   ]
  },
  {
   "cell_type": "code",
   "execution_count": 8,
   "id": "84f63155-c7b3-4130-bcaa-a7bbe2968b81",
   "metadata": {},
   "outputs": [],
   "source": [
    "def f(x,y):\n",
    "    return 2*x + 1*y\n",
    "\n",
    "def g(x,y):\n",
    "    return 10 * (x-4)**2 + 13 * (y-4)**2"
   ]
  },
  {
   "cell_type": "code",
   "execution_count": 9,
   "id": "07030e5f-a0b8-4ad1-a9fe-44f8bcaf22a7",
   "metadata": {},
   "outputs": [],
   "source": [
    "# make sure grid contains all of our data\n",
    "r_min = np.min(X) - 1\n",
    "r_max = np.max(X) + 1"
   ]
  },
  {
   "cell_type": "code",
   "execution_count": 10,
   "id": "8b717b4a-a35c-4683-8007-bb77681dbd00",
   "metadata": {},
   "outputs": [],
   "source": [
    "# in each of these, the i,j element stores the x or y value respectively corresponding to coordinates (i,j)\n",
    "xs, ys = np.meshgrid(np.arange(r_min, r_max, 0.1), np.arange(r_min, r_max, 0.1))"
   ]
  },
  {
   "cell_type": "code",
   "execution_count": 11,
   "id": "127eec7c-0837-4b69-99a0-4b1cad161031",
   "metadata": {},
   "outputs": [
    {
     "data": {
      "text/plain": [
       "<matplotlib.contour.QuadContourSet at 0x7f9813360b50>"
      ]
     },
     "execution_count": 11,
     "metadata": {},
     "output_type": "execute_result"
    },
    {
     "data": {
      "image/png": "[encoded data removed]",
      "text/plain": [
       "<Figure size 432x288 with 1 Axes>"
      ]
     },
     "metadata": {
      "needs_background": "light"
     },
     "output_type": "display_data"
    }
   ],
   "source": [
    "zs = [ [ f(xs[i,j], ys[i,j]) for j in range(len(ys)) ] for i in range(len(xs)) ]\n",
    "plt.contourf(xs, ys, zs, levels = 50, cmap = 'coolwarm')"
   ]
  },
  {
   "cell_type": "code",
   "execution_count": 12,
   "id": "b5a5e0c7-d28d-4f02-9e94-4a46c3923781",
   "metadata": {},
   "outputs": [
    {
     "data": {
      "text/plain": [
       "<matplotlib.collections.PathCollection at 0x7f98133217c0>"
      ]
     },
     "execution_count": 12,
     "metadata": {},
     "output_type": "execute_result"
    },
    {
     "data": {
      "image/png": "[encoded data removed]",
      "text/plain": [
       "<Figure size 432x288 with 1 Axes>"
      ]
     },
     "metadata": {
      "needs_background": "light"
     },
     "output_type": "display_data"
    }
   ],
   "source": [
    "def predict(x,y):\n",
    "    return knn.predict([[x,y]])[0] # extract single label\n",
    "\n",
    "zs = [ [ predict(xs[i,j], ys[i,j]) for j in range(len(ys)) ] for i in range(len(xs)) ]\n",
    "plt.contourf(xs, ys, zs, levels = 50, cmap = 'coolwarm')\n",
    "plt.scatter(X[Y == 0, 0], X[Y == 0, 1], c = 'w')\n",
    "plt.scatter(X[Y == 1, 0], X[Y == 1, 1], c = 'k')"
   ]
  },
  {
   "cell_type": "markdown",
   "id": "ef14bea7-c1a4-46e3-b094-1b633020e0d9",
   "metadata": {},
   "source": [
    "# Now try with a support vector machine (SVM)"
   ]
  },
  {
   "cell_type": "code",
   "execution_count": null,
   "id": "32b7e981-9c39-4287-93e4-67818a295061",
   "metadata": {},
   "outputs": [],
   "source": [
    "clf = SVC(kernal = 'poly', degree = 10)\n",
    "clf.fit(X,Y)"
   ]
  },
  {
   "cell_type": "code",
   "execution_count": 6,
   "id": "8de8b25f-98e5-423f-b244-a2e1d1ca07d2",
   "metadata": {},
   "outputs": [
    {
     "data": {
      "text/plain": [
       "1.4142135623730951"
      ]
     },
     "execution_count": 6,
     "metadata": {},
     "output_type": "execute_result"
    }
   ],
   "source": [
    "# for lab\n",
    "v = np.array([1,1])\n",
    "np.sqrt(np.sum(v**2))\n",
    "\n",
    "np.linalg.norm(v)"
   ]
  },
  {
   "cell_type": "code",
   "execution_count": null,
   "id": "fd943f93-0ba1-4aa9-b83c-e97618cc1094",
   "metadata": {},
   "outputs": [],
   "source": []
  }
 ],
 "metadata": {
  "kernelspec": {
   "display_name": "Python 3 (ipykernel)",
   "language": "python",
   "name": "python3"
  },
  "language_info": {
   "codemirror_mode": {
    "name": "ipython",
    "version": 3
   },
   "file_extension": ".py",
   "mimetype": "text/x-python",
   "name": "python",
   "nbconvert_exporter": "python",
   "pygments_lexer": "ipython3",
   "version": "3.8.8"
  }
 },
 "nbformat": 4,
 "nbformat_minor": 5
}
