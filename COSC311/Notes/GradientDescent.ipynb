{
 "cells": [
  {
   "cell_type": "code",
   "execution_count": 51,
   "id": "19ee78e6-aad2-4dc7-9727-b925176b0afd",
   "metadata": {},
   "outputs": [],
   "source": [
    "import numpy as np\n",
    "import math\n",
    "from matplotlib import pyplot as plt\n",
    "from tqdm import tqdm # if we want a fancy progress bar!\n",
    "import numpy.linalg as la"
   ]
  },
  {
   "cell_type": "code",
   "execution_count": 4,
   "id": "ce6c023e-b214-4783-ad89-4b00933d5f6f",
   "metadata": {},
   "outputs": [],
   "source": [
    "# recall the algorithm of gradient descent:\n",
    "# goal: minimize a function, f\n",
    "# method: given access to the derivative, f_prime\n",
    "#   - pick a starting point, x = random, x = 0, whatever you think makes sense in situ\n",
    "#   - repeat until \"done\"\n",
    "#      - update x <- x - f_prime(x) * descent_rate\n",
    "#      - optionally, update descent_rate, e.g. to slow down in later iterations"
   ]
  },
  {
   "cell_type": "code",
   "execution_count": 5,
   "id": "d7250926-9890-45e5-8870-5f1555dcb5fc",
   "metadata": {},
   "outputs": [],
   "source": [
    "def grad_desc(f_prime):\n",
    "    \"\"\" do grad descent using f_prime as access to the derivative at a point \"\"\"\n",
    "    x = 0.9\n",
    "    old_x = 0\n",
    "    learning_rate = 1\n",
    "    while abs( x - old_x ) > 0.001:\n",
    "        old_x = x\n",
    "        x -= f_prime(x)*learning_rate\n",
    "        learning_rate *= 0.9\n",
    "#         print(x)\n",
    "    return x\n",
    "    "
   ]
  },
  {
   "cell_type": "code",
   "execution_count": 6,
   "id": "f8d85dae-dfc1-4856-8ed6-2e259f547a06",
   "metadata": {},
   "outputs": [],
   "source": [
    "def x_squared_prime(x,a):\n",
    "    \"\"\"return derivative of f(x) = (x-a)**2 at x\"\"\"\n",
    "    # return 2 * x # for x**2\n",
    "    return 2*(x-a)\n",
    "\n",
    "def x_cube_prime(x,a):\n",
    "    \"\"\"return derivative of f(x) = (x-a)**3 at x\"\"\"\n",
    "    # return 2 * x # for x**2\n",
    "    return 3 * (x-a)**2"
   ]
  },
  {
   "cell_type": "code",
   "execution_count": 7,
   "id": "2a56d0af-8312-4cb5-8eca-d634952bcc34",
   "metadata": {},
   "outputs": [],
   "source": [
    "def xsp_wrapper(x):\n",
    "    return x_squared_prime(x,2)"
   ]
  },
  {
   "cell_type": "code",
   "execution_count": 8,
   "id": "b2cddc22-d061-42eb-9191-51e5cc7da1db",
   "metadata": {},
   "outputs": [
    {
     "data": {
      "text/plain": [
       "2.0000385373134706"
      ]
     },
     "execution_count": 8,
     "metadata": {},
     "output_type": "execute_result"
    }
   ],
   "source": [
    "# grad_desc(lambda x: x_squared_prime(x,2))\n",
    "grad_desc(xsp_wrapper)"
   ]
  },
  {
   "cell_type": "code",
   "execution_count": 9,
   "id": "914850e2-efa1-4733-9148-8224711f7f56",
   "metadata": {},
   "outputs": [],
   "source": [
    "# grad_desc(lambda x: x_cube_prime(x,0))"
   ]
  },
  {
   "cell_type": "markdown",
   "id": "6aa67b60-bd70-49ca-8d82-388f652078a7",
   "metadata": {},
   "source": [
    "# Now with Linear Regression..."
   ]
  },
  {
   "cell_type": "code",
   "execution_count": 25,
   "id": "022ee4a0-eca8-46be-90b2-56ce879fdde9",
   "metadata": {},
   "outputs": [],
   "source": [
    "def bestFitGradientDescent(data, learn_rate = 1, iters = 1000, gamma = 1):\n",
    "    \"\"\"take in data as a list of (x,y) pairs and calculate alpha and beta of lobf\"\"\"\n",
    "    alpha = 2\n",
    "    beta = 2\n",
    "    \n",
    "    for _ in tqdm(range(iters)):\n",
    "        alpha_grad = 0\n",
    "        beta_grad = 0\n",
    "#         print(f'alpha: {alpha}, beta: {beta}')\n",
    "        # calculate the partial derivatives\n",
    "        for row in data:\n",
    "            alpha_grad += 2*( alpha * row[0] + beta - row[1] ) * row[0]\n",
    "            beta_grad += 2* ( alpha * row[0] + beta - row[1] )\n",
    "            \n",
    "        # do our gradient descent step\n",
    "        alpha -= learn_rate * alpha_grad\n",
    "        beta -= learn_rate * beta_grad\n",
    "        learn_rate *= gamma\n",
    "    \n",
    "    return alpha, beta"
   ]
  },
  {
   "cell_type": "code",
   "execution_count": 54,
   "id": "fc55c7c9-e76d-449e-a078-819c784d8c8b",
   "metadata": {},
   "outputs": [],
   "source": [
    "xs = np.arange(1,10,0.1)\n",
    "points = np.array([ [x, x + np.random.normal(0,0.5)] for x in xs ])"
   ]
  },
  {
   "cell_type": "code",
   "execution_count": 55,
   "id": "61bedca7-6121-4aa4-9806-a76201f985dd",
   "metadata": {},
   "outputs": [
    {
     "data": {
      "text/plain": [
       "<matplotlib.collections.PathCollection at 0x7ff1ec868e20>"
      ]
     },
     "execution_count": 55,
     "metadata": {},
     "output_type": "execute_result"
    },
    {
     "data": {
      "image/png": "[encoded data removed]",
      "text/plain": [
       "<Figure size 432x288 with 1 Axes>"
      ]
     },
     "metadata": {
      "needs_background": "light"
     },
     "output_type": "display_data"
    }
   ],
   "source": [
    "plt.scatter(points[:,0], points[:,1])"
   ]
  },
  {
   "cell_type": "code",
   "execution_count": 56,
   "id": "ff5fb892-3771-42df-a8c2-5613ade3a3b9",
   "metadata": {},
   "outputs": [
    {
     "name": "stderr",
     "output_type": "stream",
     "text": [
      "100%|██████████| 1000/1000 [00:00<00:00, 8921.32it/s]\n"
     ]
    }
   ],
   "source": [
    "a,b = bestFitGradientDescent(points, 0.0001)"
   ]
  },
  {
   "cell_type": "code",
   "execution_count": 57,
   "id": "e0d8687f-3d5f-49f4-827e-115fdf003741",
   "metadata": {},
   "outputs": [
    {
     "data": {
      "text/plain": [
       "[<matplotlib.lines.Line2D at 0x7ff1ed140f40>]"
      ]
     },
     "execution_count": 57,
     "metadata": {},
     "output_type": "execute_result"
    },
    {
     "data": {
      "image/png": "[encoded data removed]",
      "text/plain": [
       "<Figure size 432x288 with 1 Axes>"
      ]
     },
     "metadata": {
      "needs_background": "light"
     },
     "output_type": "display_data"
    }
   ],
   "source": [
    "plt.scatter(points[:,0], points[:,1])\n",
    "plt.plot(xs, [a*x + b for x in xs])"
   ]
  },
  {
   "cell_type": "code",
   "execution_count": 58,
   "id": "a8d37f76-10eb-46ef-ad6a-2c538f3d26f1",
   "metadata": {},
   "outputs": [
    {
     "data": {
      "text/plain": [
       "(1.0037779866007528, -0.028279059721270716)"
      ]
     },
     "execution_count": 58,
     "metadata": {},
     "output_type": "execute_result"
    }
   ],
   "source": [
    "(a,b)"
   ]
  },
  {
   "cell_type": "markdown",
   "id": "e24a0b49-68e6-4172-844d-df21a2fe2bab",
   "metadata": {},
   "source": [
    "## Analytic Solution\n",
    "\n",
    "Given a matrix $X \\in \\mathbb{R}^{B \\times d}$ of observation sites and vector $Y \\in \\mathbb{R}^{N}$ of observed values, we really want to find $\\beta \\in \\mathbb{R}^{d}$ to be the vector of parameters of the linear model.\n",
    "\n",
    "The error can now be written as $$\\big|\\big| X \\beta - Y \\big|\\big|^2$$\n",
    "Then we can do sone lin alg calculus, set error to 0 and solve, to get\n",
    "\n",
    "$$\\beta^* = (X^TX)^{-1}X^TY$$"
   ]
  },
  {
   "cell_type": "code",
   "execution_count": 59,
   "id": "0718ac79-9b2f-42aa-8425-0141be03d853",
   "metadata": {},
   "outputs": [
    {
     "data": {
      "text/plain": [
       "array([[ 1.01474227],\n",
       "       [-0.10124802]])"
      ]
     },
     "execution_count": 59,
     "metadata": {},
     "output_type": "execute_result"
    }
   ],
   "source": [
    "X = np.copy(points)\n",
    "X[:,1] = 1\n",
    "Y = np.array([points[:,1]]).T\n",
    "\n",
    "beta_star = la.inv(X.T @ X) @ X.T @ Y\n",
    "beta_star"
   ]
  },
  {
   "cell_type": "code",
   "execution_count": null,
   "id": "7ae3ee0a-3def-40fb-914c-ca4db827e34e",
   "metadata": {},
   "outputs": [],
   "source": []
  }
 ],
 "metadata": {
  "kernelspec": {
   "display_name": "Python 3 (ipykernel)",
   "language": "python",
   "name": "python3"
  },
  "language_info": {
   "codemirror_mode": {
    "name": "ipython",
    "version": 3
   },
   "file_extension": ".py",
   "mimetype": "text/x-python",
   "name": "python",
   "nbconvert_exporter": "python",
   "pygments_lexer": "ipython3",
   "version": "3.8.8"
  }
 },
 "nbformat": 4,
 "nbformat_minor": 5
}
