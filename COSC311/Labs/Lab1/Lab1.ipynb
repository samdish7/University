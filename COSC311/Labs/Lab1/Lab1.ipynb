{
 "cells": [
  {
   "cell_type": "markdown",
   "metadata": {},
   "source": [
    "# Lab 1\n",
    "Samuel Disharoon\n",
    "Date: 9/3/2021"
   ]
  },
  {
   "cell_type": "code",
   "execution_count": 1,
   "metadata": {},
   "outputs": [],
   "source": [
    "# Number 3\n",
    "artists = [\n",
    "    {\"id\": 0, \"name\": \"Susan Tedeschi\" },\n",
    "    {\"id\": 1, \"name\": \"Bob Dylan\" },\n",
    "    {\"id\": 2, \"name\": \"Freddie Mercury\" },\n",
    "    {\"id\": 3, \"name\": \"Bob Marley\" },\n",
    "    {\"id\": 4, \"name\": \"Michael Jackson\" },\n",
    "    {\"id\": 5, \"name\": \"Swae Lee\" },\n",
    "    {\"id\": 6, \"name\": \"Post Malone\" },\n",
    "    {\"id\": 7, \"name\": \"Slim Jxmmi\" },\n",
    "    {\"id\": 8, \"name\": \"Lil Uzi Vert\" },\n",
    "    {\"id\": 9, \"name\": \"Elvis Presley\" },\n",
    "]\n",
    "# Number 4\n",
    "songs = [\n",
    "    {\"id\": 0, \"name\": \"Angel from Montgomery\" },\n",
    "    {\"id\": 1, \"name\": \"Sunflower\" },\n",
    "    {\"id\": 2, \"name\": \"Billie Jean\" },\n",
    "    {\"id\": 3, \"name\": \"Powerglide\" },\n",
    "    {\"id\": 4, \"name\": \"P2\" },\n",
    "    {\"id\": 5, \"name\": \"Don't Think Twice, It's Alright\" },\n",
    "    {\"id\": 6, \"name\": \"It Hurt So Bad\" },\n",
    "    {\"id\": 7, \"name\": \"Don't Worry, Be Happy\" },\n",
    "    {\"id\": 8, \"name\": \"Don't Stop Me Now\" },\n",
    "    {\"id\": 9, \"name\": \"WaterSlide\" },\n",
    "    {\"id\": 10, \"name\": \"Circles\" },\n",
    "    {\"id\": 11, \"name\": \"Jailhouse Rock\" },\n",
    "]\n",
    "# Number 5\n",
    "artist_songs = [\n",
    "    (0,0), (0,5), (0,6),\n",
    "    (1,5), (1,9),\n",
    "    (2,8),\n",
    "    (3,7),\n",
    "    (4,2),\n",
    "    (5,1), (5,3),\n",
    "    (6,1), (6,10),\n",
    "    (7,3), \n",
    "    (8,4),\n",
    "    (9,11),\n",
    "]\n",
    "# Number 9\n",
    "keywords = [\n",
    "    (0,\"blues\"), (0,\"female lead\"), (0,\"guitar\"),\n",
    "    (1,\"blues\"), (1,\"male lead\"), (1,\"guitar\"),\n",
    "    (2,\"pop\"), (2,\"male lead\"), (2,\"vocals\"),\n",
    "    (3,\"reggae\"), (3,\"vocals\"),\n",
    "    (4,\"pop\"), (4,\"vocals\"), (4,\"king\"),\n",
    "    (5,\"rap\"), (5,\"male lead\"), (5,\"vocals\"),\n",
    "    (6,\"pop\"), (6,\"vocals\"), (6,\"r&b\"),\n",
    "    (7,\"rap\"), (7, \"vocals\"), (7,\"male backup\"),\n",
    "    (8,\"rap\"), (8,\"vocals\"),\n",
    "    (9,\"rock and roll\"), (9,\"king\"),\n",
    "]"
   ]
  },
  {
   "cell_type": "code",
   "execution_count": 2,
   "metadata": {},
   "outputs": [],
   "source": [
    "# Number 6 implementation\n",
    "def who_covered(name_song):\n",
    "    result=[]\n",
    "    for y in range(0,len(songs)):\n",
    "        if name_song == songs[y][\"name\"]:\n",
    "            print(\"The artist(s) that covered\",songs[y][\"name\"],\"~>\") # This is output for number 6\n",
    "            for x in range(0,len(artist_songs)):\n",
    "                j=artist_songs[x][0]\n",
    "                k=artist_songs[x][1]\n",
    "                if y == k:\n",
    "                    result.append(artists[j][\"name\"])\n",
    "    return result\n",
    "        #This was to test the tuples, does not work\n",
    "      # print(artists[j][\"name\"],\"covered\",songs[k][\"name\"])"
   ]
  },
  {
   "cell_type": "code",
   "execution_count": 3,
   "metadata": {},
   "outputs": [
    {
     "name": "stdout",
     "output_type": "stream",
     "text": [
      "The artist(s) that covered Powerglide ~>\n"
     ]
    },
    {
     "data": {
      "text/plain": [
       "['Swae Lee', 'Slim Jxmmi']"
      ]
     },
     "execution_count": 3,
     "metadata": {},
     "output_type": "execute_result"
    }
   ],
   "source": [
    "# Number 6 function call\n",
    "who_covered(\"Powerglide\")"
   ]
  },
  {
   "cell_type": "code",
   "execution_count": 4,
   "metadata": {},
   "outputs": [],
   "source": [
    "# Number 7 driver\n",
    "def driver(s_id):\n",
    "    return [c['name']\n",
    "           for b in artist_songs if b[0] == s_id\n",
    "           for c in songs if c['id'] == b[1] and c['id'] != s_id]"
   ]
  },
  {
   "cell_type": "code",
   "execution_count": 5,
   "metadata": {},
   "outputs": [],
   "source": [
    "# Number 7 implementation\n",
    "def shared_songs(name):\n",
    "    query_id = [a[\"id\"] for a in artists if a[\"name\"] == name][0]\n",
    "    return driver(query_id)"
   ]
  },
  {
   "cell_type": "code",
   "execution_count": 6,
   "metadata": {},
   "outputs": [
    {
     "data": {
      "text/plain": [
       "[\"Don't Think Twice, It's Alright\", 'WaterSlide']"
      ]
     },
     "execution_count": 6,
     "metadata": {},
     "output_type": "execute_result"
    }
   ],
   "source": [
    "# Number 7 function call\n",
    "shared_songs(\"Bob Dylan\")"
   ]
  },
  {
   "cell_type": "code",
   "execution_count": 7,
   "metadata": {},
   "outputs": [],
   "source": [
    "# Number 8 Implementation\n",
    "def song_popularity():\n",
    "    x=0\n",
    "    c=0\n",
    "    max_count = 0\n",
    "    for y in range(0,len(songs)):\n",
    "        count = 0\n",
    "        for z in range(0,len(artist_songs)):\n",
    "            if x == artist_songs[z][1]:\n",
    "                count += 1\n",
    "                if max_count < count:\n",
    "                    max_count=count\n",
    "        x += 1\n",
    "    while max_count > 0:\n",
    "        c=0\n",
    "        for a in range(0,len(songs)):\n",
    "            count = 0\n",
    "            for b in range(0,len(artist_songs)):\n",
    "                if c == artist_songs[b][1]:\n",
    "                    count += 1\n",
    "            if count == max_count:\n",
    "                print(\"The song\",songs[c][\"name\"],\"has been covered\",count,\"time(s)\")\n",
    "            c += 1\n",
    "        max_count -= 1"
   ]
  },
  {
   "cell_type": "code",
   "execution_count": 8,
   "metadata": {},
   "outputs": [
    {
     "name": "stdout",
     "output_type": "stream",
     "text": [
      "The song Sunflower has been covered 2 time(s)\n",
      "The song Powerglide has been covered 2 time(s)\n",
      "The song Don't Think Twice, It's Alright has been covered 2 time(s)\n",
      "The song Angel from Montgomery has been covered 1 time(s)\n",
      "The song Billie Jean has been covered 1 time(s)\n",
      "The song P2 has been covered 1 time(s)\n",
      "The song It Hurt So Bad has been covered 1 time(s)\n",
      "The song Don't Worry, Be Happy has been covered 1 time(s)\n",
      "The song Don't Stop Me Now has been covered 1 time(s)\n",
      "The song WaterSlide has been covered 1 time(s)\n",
      "The song Circles has been covered 1 time(s)\n",
      "The song Jailhouse Rock has been covered 1 time(s)\n"
     ]
    }
   ],
   "source": [
    "# Number 8 function call\n",
    "song_popularity()"
   ]
  },
  {
   "cell_type": "code",
   "execution_count": 9,
   "metadata": {},
   "outputs": [],
   "source": [
    "def similar_artists(name):\n",
    "    query_id = [a['id'] for a in artists if a['name'] == name][0]\n",
    "    return query_id"
   ]
  },
  {
   "cell_type": "code",
   "execution_count": 10,
   "metadata": {},
   "outputs": [
    {
     "data": {
      "text/plain": [
       "5"
      ]
     },
     "execution_count": 10,
     "metadata": {},
     "output_type": "execute_result"
    }
   ],
   "source": [
    "similar_artists(\"Swae Lee\")"
   ]
  },
  {
   "cell_type": "markdown",
   "metadata": {},
   "source": [
    "# Number 11\n",
    "\n",
    "### Question 1\n",
    "\n",
    "I didn't use \"Simple Twist of Fate\", so I will answer the question for \"Don't Think Twice, It's Alright\". We can visualize this by highlighting tha certain song in our plot table. Use shading and colors to emphasize it over the others. \n",
    "\n",
    "### Question 2\n",
    "\n",
    "Yet again, didn't do Simple Twist of Fate. But Don't Think Twice, It's Alright has a blue style. Bob Dylan is a blues artist so there for his songs are likely to be based off of blues music\n",
    "\n",
    "a&b) One way I would make this visual is similar to what Spotify does. Using the key_words tuple can help our database find certain song types that people like. To make it look good, with each data value in the returned list, add visuals such as a picture for the songs, how much time is left and total time the song takes, and various other eye candies. One application that could do this job is vpython. \n",
    "\n",
    "c) I would absolutely use the keywords tuple to base my algorithm around.  If someone likes rock music, then have python do a search for the keyword \"rock\" and display some songs/artists that write that type of music.\n"
   ]
  },
  {
   "cell_type": "code",
   "execution_count": null,
   "metadata": {},
   "outputs": [],
   "source": []
  }
 ],
 "metadata": {
  "kernelspec": {
   "display_name": "Python 3 (ipykernel)",
   "language": "python",
   "name": "python3"
  },
  "language_info": {
   "codemirror_mode": {
    "name": "ipython",
    "version": 3
   },
   "file_extension": ".py",
   "mimetype": "text/x-python",
   "name": "python",
   "nbconvert_exporter": "python",
   "pygments_lexer": "ipython3",
   "version": "3.8.8"
  }
 },
 "nbformat": 4,
 "nbformat_minor": 4
}
