{
 "cells": [
  {
   "cell_type": "markdown",
   "metadata": {},
   "source": [
    "# Lab 1\n",
    "Author: Samuel Disharoon [sdisharoon1@gulls.salisbury.edu]\n",
    "\n",
    "Date: September 3rd, 2021\n",
    "\n",
    "Description: A test lab for Jupyter"
   ]
  },
  {
   "cell_type": "code",
   "execution_count": 6,
   "metadata": {},
   "outputs": [],
   "source": [
    "import numpy as np"
   ]
  },
  {
   "cell_type": "code",
   "execution_count": 2,
   "metadata": {},
   "outputs": [
    {
     "data": {
      "text/plain": [
       "5"
      ]
     },
     "execution_count": 2,
     "metadata": {},
     "output_type": "execute_result"
    }
   ],
   "source": [
    "3+2"
   ]
  },
  {
   "cell_type": "code",
   "execution_count": 3,
   "metadata": {},
   "outputs": [
    {
     "name": "stdout",
     "output_type": "stream",
     "text": [
      "5\n"
     ]
    }
   ],
   "source": [
    "x = 3 + 2\n",
    "print(x)"
   ]
  },
  {
   "cell_type": "code",
   "execution_count": 8,
   "metadata": {},
   "outputs": [
    {
     "name": "stdout",
     "output_type": "stream",
     "text": [
      "[ 0.          0.02040816  0.04081633  0.06122449  0.08163265  0.10204082\n",
      "  0.12244898  0.14285714  0.16326531  0.18367347  0.20408163  0.2244898\n",
      "  0.24489796  0.26530612  0.28571429  0.30612245  0.32653061  0.34693878\n",
      "  0.36734694  0.3877551   0.40816327  0.42857143  0.44897959  0.46938776\n",
      "  0.48979592  0.51020408  0.53061224  0.55102041  0.57142857  0.59183673\n",
      "  0.6122449   0.63265306  0.65306122  0.67346939  0.69387755  0.71428571\n",
      "  0.73469388  0.75510204  0.7755102   0.79591837  0.81632653  0.83673469\n",
      "  0.85714286  0.87755102  0.89795918  0.91836735  0.93877551  0.95918367\n",
      "  0.97959184  1.        ]\n"
     ]
    }
   ],
   "source": [
    "y = np.linspace(0,1)\n",
    "print(y)"
   ]
  },
  {
   "cell_type": "code",
   "execution_count": null,
   "metadata": {},
   "outputs": [],
   "source": []
  }
 ],
 "metadata": {
  "kernelspec": {
   "display_name": "Python 3",
   "language": "python",
   "name": "python3"
  },
  "language_info": {
   "codemirror_mode": {
    "name": "ipython",
    "version": 3
   },
   "file_extension": ".py",
   "mimetype": "text/x-python",
   "name": "python",
   "nbconvert_exporter": "python",
   "pygments_lexer": "ipython3",
   "version": "3.8.8"
  }
 },
 "nbformat": 4,
 "nbformat_minor": 2
}
